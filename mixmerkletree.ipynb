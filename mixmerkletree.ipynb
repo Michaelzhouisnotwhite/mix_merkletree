{
  "nbformat": 4,
  "nbformat_minor": 0,
  "metadata": {
    "colab": {
      "name": "merkleroot.ipynb",
      "provenance": [],
      "collapsed_sections": []
    },
    "kernelspec": {
      "name": "python3",
      "display_name": "Python 3"
    }
  },
  "cells": [
    {
      "cell_type": "markdown",
      "metadata": {
        "id": "5ko5wVas6132"
      },
      "source": [
        "This code offers you a simple and functional possibility to test the merkle tree."
      ]
    },
    {
      "cell_type": "markdown",
      "metadata": {
        "id": "QfPjpfSf7Ljc"
      },
      "source": [
        "#### Lelt's go !"
      ]
    },
    {
      "cell_type": "markdown",
      "metadata": {
        "id": "0gt72rp17RSE"
      },
      "source": [
        "Importing the library."
      ]
    },
    {
      "cell_type": "code",
      "metadata": {
        "id": "UARurZAa7Xvi"
      },
      "source": [
        "from typing import List\r\n",
        "import typing\r\n",
        "import hashlib"
      ],
      "execution_count": null,
      "outputs": []
    },
    {
      "cell_type": "markdown",
      "metadata": {
        "id": "C95CH-uw7eEf"
      },
      "source": [
        "Adding \"Node\" the class and static function."
      ]
    },
    {
      "cell_type": "code",
      "metadata": {
        "id": "GgE_J4cm7hip"
      },
      "source": [
        "class Node:\r\n",
        "    def __init__(self, left, right, value: str,content)-> None:\r\n",
        "        self.left: Node = left\r\n",
        "        self.right: Node = right\r\n",
        "        self.value = value\r\n",
        "        self.content = content\r\n",
        "    \r\n",
        "    @staticmethod\r\n",
        "    def hash(val: str)-> str:\r\n",
        "        return hashlib.sha256(val.encode('utf-8')).hexdigest()\r\n",
        "    def __str__(self):\r\n",
        "      return (str(self.value))"
      ],
      "execution_count": null,
      "outputs": []
    },
    {
      "cell_type": "markdown",
      "metadata": {
        "id": "V1sz0xuC7pq7"
      },
      "source": [
        "And adding the \"MerkleTree\" class."
      ]
    },
    {
      "cell_type": "code",
      "metadata": {
        "id": "i804zHRD8Vvj"
      },
      "source": [
        "class MerkleTree:\r\n",
        "    def __init__(self, values: List[str])-> None:\r\n",
        "        self.__buildTree(values)\r\n",
        " \r\n",
        "    def __buildTree(self, values: List[str])-> None:\r\n",
        " \r\n",
        "        leaves: List[Node] = [Node(None, None, Node.hash(e),e) for e in values]\r\n",
        "        if len(leaves) % 2 == 1:\r\n",
        "            leaves.append(leaves[-1:][0]) # duplicate last elem if odd number of elements\r\n",
        "        self.root: Node = self.__buildTreeRec(leaves) \r\n",
        "    \r\n",
        "    def __buildTreeRec(self, nodes: List[Node])-> Node:\r\n",
        "        half: int = len(nodes) // 2\r\n",
        " \r\n",
        "        if len(nodes) == 2:\r\n",
        "            return Node(nodes[0], nodes[1], Node.hash(nodes[0].value + nodes[1].value), nodes[0].content+\"+\"+nodes[1].content)\r\n",
        "        \r\n",
        "        left: Node = self.__buildTreeRec(nodes[:half])\r\n",
        "        right: Node = self.__buildTreeRec(nodes[half:])\r\n",
        "        value: str = Node.hash(left.value + right.value)\r\n",
        "        content: str = self.__buildTreeRec(nodes[:half]).content+\"+\"+self.__buildTreeRec(nodes[half:]).content\r\n",
        "        return Node(left, right, value,content)\r\n",
        "    \r\n",
        "    def printTree(self)-> None:\r\n",
        "        self.__printTreeRec(self.root)\r\n",
        " \r\n",
        "    def __printTreeRec(self, node)-> None:\r\n",
        "        if node != None:\r\n",
        "            if node.left != None:\r\n",
        "             print(\"Left: \"+str(node.left))\r\n",
        "             print(\"Right: \"+str(node.right))\r\n",
        "            else:\r\n",
        "             print(\"Input\")\r\n",
        "            print(\"Value: \"+str(node.value))\r\n",
        "            print(\"Content: \"+str(node.content))\r\n",
        "            print(\"\")\r\n",
        "            self.__printTreeRec(node.left)\r\n",
        "            self.__printTreeRec(node.right)\r\n",
        "    \r\n",
        "    def getRootHash(self)-> str:\r\n",
        "        return self.root.value"
      ],
      "execution_count": null,
      "outputs": []
    },
    {
      "cell_type": "markdown",
      "metadata": {
        "id": "MCNviPXf-iga"
      },
      "source": [
        "# Test"
      ]
    },
    {
      "cell_type": "code",
      "metadata": {
        "id": "LhCCADqk-mEC"
      },
      "source": [
        "def mixmerkletree()-> None:\r\n",
        "    elems = [\"Mix\", \"Merkle\", \"Tree\",\"From\",\"Onur Atakan ULUSOY\",\"https://github.com/onuratakan/mixmerkletree\",\"GO\"] #inputs\r\n",
        "    print(\"Inputs: \")\r\n",
        "    print(*elems, sep = \" | \")\r\n",
        "    print(\"\")\r\n",
        "    mtree = MerkleTree(elems)\r\n",
        "    print(\"Root Hash: \"+mtree.getRootHash()+\"\\n\")\r\n",
        "    print(mtree.printTree())\r\n",
        " \r\n",
        " \r\n",
        "mixmerkletree()"
      ],
      "execution_count": null,
      "outputs": []
    }
  ]
}
